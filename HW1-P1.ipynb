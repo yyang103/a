{
 "cells": [
  {
   "cell_type": "markdown",
   "metadata": {},
   "source": [
    "# HW1               \n",
    "     Yuguo yang\n",
    "     9-11-2019"
   ]
  },
  {
   "cell_type": "markdown",
   "metadata": {},
   "source": [
    "# Problem1"
   ]
  },
  {
   "cell_type": "code",
   "execution_count": 20,
   "metadata": {},
   "outputs": [],
   "source": [
    "import numpy as np"
   ]
  },
  {
   "cell_type": "code",
   "execution_count": 1,
   "metadata": {},
   "outputs": [],
   "source": [
    "import pandas as pd"
   ]
  },
  {
   "cell_type": "code",
   "execution_count": 2,
   "metadata": {},
   "outputs": [],
   "source": [
    "import matplotlib.pyplot as plt"
   ]
  },
  {
   "cell_type": "code",
   "execution_count": 3,
   "metadata": {},
   "outputs": [],
   "source": [
    "import seaborn as sns"
   ]
  },
  {
   "cell_type": "code",
   "execution_count": 4,
   "metadata": {},
   "outputs": [],
   "source": [
    "import scipy.stats as g"
   ]
  },
  {
   "cell_type": "markdown",
   "metadata": {},
   "source": [
    "# a."
   ]
  },
  {
   "cell_type": "code",
   "execution_count": 7,
   "metadata": {},
   "outputs": [],
   "source": [
    "ap=pd.read_csv(\"vitoria2006.csv\")"
   ]
  },
  {
   "cell_type": "code",
   "execution_count": 8,
   "metadata": {},
   "outputs": [],
   "source": [
    "# select rows by condition (total price greater than 400,000 euros) "
   ]
  },
  {
   "cell_type": "code",
   "execution_count": 9,
   "metadata": {},
   "outputs": [],
   "source": [
    "ap2=ap[ap.totalprice>400000]"
   ]
  },
  {
   "cell_type": "code",
   "execution_count": 10,
   "metadata": {},
   "outputs": [],
   "source": [
    "# count numbers"
   ]
  },
  {
   "cell_type": "code",
   "execution_count": 11,
   "metadata": {},
   "outputs": [],
   "source": [
    "number=len(list(ap2))"
   ]
  },
  {
   "cell_type": "code",
   "execution_count": 13,
   "metadata": {},
   "outputs": [
    {
     "data": {
      "text/plain": [
       "15"
      ]
     },
     "execution_count": 13,
     "metadata": {},
     "output_type": "execute_result"
    }
   ],
   "source": [
    "number"
   ]
  },
  {
   "cell_type": "markdown",
   "metadata": {},
   "source": [
    "# b."
   ]
  },
  {
   "cell_type": "code",
   "execution_count": 16,
   "metadata": {},
   "outputs": [],
   "source": [
    "# show column totalprice"
   ]
  },
  {
   "cell_type": "code",
   "execution_count": 17,
   "metadata": {},
   "outputs": [],
   "source": [
    "tp=ap['totalprice']"
   ]
  },
  {
   "cell_type": "code",
   "execution_count": 18,
   "metadata": {},
   "outputs": [],
   "source": [
    "# histogram of relative frequencies of totalprice"
   ]
  },
  {
   "cell_type": "code",
   "execution_count": 21,
   "metadata": {
    "scrolled": true
   },
   "outputs": [
    {
     "data": {
      "text/plain": [
       "<matplotlib.axes._subplots.AxesSubplot at 0x113aca588>"
      ]
     },
     "execution_count": 21,
     "metadata": {},
     "output_type": "execute_result"
    },
    {
     "data": {
      "image/png": "[encoded data removed]",
      "text/plain": [
       "<Figure size 432x288 with 1 Axes>"
      ]
     },
     "metadata": {
      "needs_background": "light"
     },
     "output_type": "display_data"
    }
   ],
   "source": [
    "tp.hist(bins=100,weights=np.zeros_like(tp)+1/tp.size )"
   ]
  },
  {
   "cell_type": "code",
   "execution_count": 22,
   "metadata": {},
   "outputs": [],
   "source": [
    "# normal density curve"
   ]
  },
  {
   "cell_type": "code",
   "execution_count": 23,
   "metadata": {},
   "outputs": [
    {
     "data": {
      "text/plain": [
       "<matplotlib.axes._subplots.AxesSubplot at 0x115d96cf8>"
      ]
     },
     "execution_count": 23,
     "metadata": {},
     "output_type": "execute_result"
    },
    {
     "data": {
      "image/png": "[encoded data removed]",
      "text/plain": [
       "<Figure size 432x288 with 1 Axes>"
      ]
     },
     "metadata": {
      "needs_background": "light"
     },
     "output_type": "display_data"
    }
   ],
   "source": [
    "sns.distplot(tp,hist=True,bins=100)"
   ]
  },
  {
   "cell_type": "code",
   "execution_count": 24,
   "metadata": {},
   "outputs": [],
   "source": [
    "# variable a: the mean of the totalprice \n",
    "# variable b: the std of the totalprice"
   ]
  },
  {
   "cell_type": "code",
   "execution_count": 25,
   "metadata": {},
   "outputs": [],
   "source": [
    "a=tp.mean()\n",
    "b=tp.std()"
   ]
  },
  {
   "cell_type": "code",
   "execution_count": 26,
   "metadata": {},
   "outputs": [],
   "source": [
    "# calculate the probability that the total price of apartment less than 300000 euros pl"
   ]
  },
  {
   "cell_type": "code",
   "execution_count": 30,
   "metadata": {},
   "outputs": [],
   "source": [
    "pl=g.norm(a,b).cdf(300000)"
   ]
  },
  {
   "cell_type": "code",
   "execution_count": 31,
   "metadata": {},
   "outputs": [],
   "source": [
    "# probability that the total price of apartment exceeds 300000 pe"
   ]
  },
  {
   "cell_type": "code",
   "execution_count": 32,
   "metadata": {},
   "outputs": [],
   "source": [
    "pe=1-pl"
   ]
  },
  {
   "cell_type": "code",
   "execution_count": 33,
   "metadata": {},
   "outputs": [
    {
     "data": {
      "text/plain": [
       "0.39054215697577643"
      ]
     },
     "execution_count": 33,
     "metadata": {},
     "output_type": "execute_result"
    }
   ],
   "source": [
    "pe"
   ]
  },
  {
   "cell_type": "markdown",
   "metadata": {},
   "source": [
    "# c."
   ]
  },
  {
   "cell_type": "code",
   "execution_count": 35,
   "metadata": {},
   "outputs": [],
   "source": [
    "# show columns of all numerical variables"
   ]
  },
  {
   "cell_type": "code",
   "execution_count": 36,
   "metadata": {},
   "outputs": [],
   "source": [
    "h=ap[['totalprice','area','age','floor','rooms','toilets','garage','elevator','storage']]"
   ]
  },
  {
   "cell_type": "code",
   "execution_count": 42,
   "metadata": {},
   "outputs": [],
   "source": [
    "# calculate covariance matrix"
   ]
  },
  {
   "cell_type": "code",
   "execution_count": 44,
   "metadata": {},
   "outputs": [
    {
     "data": {
      "text/html": [
       "<div>\n",
       "<style scoped>\n",
       "    .dataframe tbody tr th:only-of-type {\n",
       "        vertical-align: middle;\n",
       "    }\n",
       "\n",
       "    .dataframe tbody tr th {\n",
       "        vertical-align: top;\n",
       "    }\n",
       "\n",
       "    .dataframe thead th {\n",
       "        text-align: right;\n",
       "    }\n",
       "</style>\n",
       "<table border=\"1\" class=\"dataframe\">\n",
       "  <thead>\n",
       "    <tr style=\"text-align: right;\">\n",
       "      <th></th>\n",
       "      <th>totalprice</th>\n",
       "      <th>area</th>\n",
       "      <th>age</th>\n",
       "      <th>floor</th>\n",
       "      <th>rooms</th>\n",
       "      <th>toilets</th>\n",
       "      <th>garage</th>\n",
       "      <th>elevator</th>\n",
       "      <th>storage</th>\n",
       "    </tr>\n",
       "  </thead>\n",
       "  <tbody>\n",
       "    <tr>\n",
       "      <td>totalprice</td>\n",
       "      <td>4.802276e+09</td>\n",
       "      <td>1.162639e+06</td>\n",
       "      <td>-275569.809042</td>\n",
       "      <td>4306.929479</td>\n",
       "      <td>23103.901095</td>\n",
       "      <td>23829.329737</td>\n",
       "      <td>16364.512574</td>\n",
       "      <td>14244.123620</td>\n",
       "      <td>7536.746579</td>\n",
       "    </tr>\n",
       "    <tr>\n",
       "      <td>area</td>\n",
       "      <td>1.162639e+06</td>\n",
       "      <td>4.298508e+02</td>\n",
       "      <td>-15.815009</td>\n",
       "      <td>3.600908</td>\n",
       "      <td>8.392216</td>\n",
       "      <td>6.484930</td>\n",
       "      <td>3.286218</td>\n",
       "      <td>3.291590</td>\n",
       "      <td>1.274237</td>\n",
       "    </tr>\n",
       "    <tr>\n",
       "      <td>age</td>\n",
       "      <td>-2.755698e+05</td>\n",
       "      <td>-1.581501e+01</td>\n",
       "      <td>213.031243</td>\n",
       "      <td>-2.522175</td>\n",
       "      <td>-0.766034</td>\n",
       "      <td>-2.049338</td>\n",
       "      <td>-1.408532</td>\n",
       "      <td>-2.402951</td>\n",
       "      <td>-1.581744</td>\n",
       "    </tr>\n",
       "    <tr>\n",
       "      <td>floor</td>\n",
       "      <td>4.306929e+03</td>\n",
       "      <td>3.600908e+00</td>\n",
       "      <td>-2.522175</td>\n",
       "      <td>4.524077</td>\n",
       "      <td>0.175538</td>\n",
       "      <td>0.110980</td>\n",
       "      <td>-0.029214</td>\n",
       "      <td>0.172240</td>\n",
       "      <td>-0.103708</td>\n",
       "    </tr>\n",
       "    <tr>\n",
       "      <td>rooms</td>\n",
       "      <td>2.310390e+04</td>\n",
       "      <td>8.392216e+00</td>\n",
       "      <td>-0.766034</td>\n",
       "      <td>0.175538</td>\n",
       "      <td>0.402317</td>\n",
       "      <td>0.133514</td>\n",
       "      <td>0.058893</td>\n",
       "      <td>0.090052</td>\n",
       "      <td>0.008456</td>\n",
       "    </tr>\n",
       "    <tr>\n",
       "      <td>toilets</td>\n",
       "      <td>2.382933e+04</td>\n",
       "      <td>6.484930e+00</td>\n",
       "      <td>-2.049338</td>\n",
       "      <td>0.110980</td>\n",
       "      <td>0.133514</td>\n",
       "      <td>0.250116</td>\n",
       "      <td>0.102313</td>\n",
       "      <td>0.090263</td>\n",
       "      <td>0.044476</td>\n",
       "    </tr>\n",
       "    <tr>\n",
       "      <td>garage</td>\n",
       "      <td>1.636451e+04</td>\n",
       "      <td>3.286218e+00</td>\n",
       "      <td>-1.408532</td>\n",
       "      <td>-0.029214</td>\n",
       "      <td>0.058893</td>\n",
       "      <td>0.102313</td>\n",
       "      <td>0.203293</td>\n",
       "      <td>0.049296</td>\n",
       "      <td>0.028622</td>\n",
       "    </tr>\n",
       "    <tr>\n",
       "      <td>elevator</td>\n",
       "      <td>1.424412e+04</td>\n",
       "      <td>3.291590e+00</td>\n",
       "      <td>-2.402951</td>\n",
       "      <td>0.172240</td>\n",
       "      <td>0.090052</td>\n",
       "      <td>0.090263</td>\n",
       "      <td>0.049296</td>\n",
       "      <td>0.161840</td>\n",
       "      <td>0.034668</td>\n",
       "    </tr>\n",
       "    <tr>\n",
       "      <td>storage</td>\n",
       "      <td>7.536747e+03</td>\n",
       "      <td>1.274237e+00</td>\n",
       "      <td>-1.581744</td>\n",
       "      <td>-0.103708</td>\n",
       "      <td>0.008456</td>\n",
       "      <td>0.044476</td>\n",
       "      <td>0.028622</td>\n",
       "      <td>0.034668</td>\n",
       "      <td>0.165476</td>\n",
       "    </tr>\n",
       "  </tbody>\n",
       "</table>\n",
       "</div>"
      ],
      "text/plain": [
       "              totalprice          area            age        floor  \\\n",
       "totalprice  4.802276e+09  1.162639e+06 -275569.809042  4306.929479   \n",
       "area        1.162639e+06  4.298508e+02     -15.815009     3.600908   \n",
       "age        -2.755698e+05 -1.581501e+01     213.031243    -2.522175   \n",
       "floor       4.306929e+03  3.600908e+00      -2.522175     4.524077   \n",
       "rooms       2.310390e+04  8.392216e+00      -0.766034     0.175538   \n",
       "toilets     2.382933e+04  6.484930e+00      -2.049338     0.110980   \n",
       "garage      1.636451e+04  3.286218e+00      -1.408532    -0.029214   \n",
       "elevator    1.424412e+04  3.291590e+00      -2.402951     0.172240   \n",
       "storage     7.536747e+03  1.274237e+00      -1.581744    -0.103708   \n",
       "\n",
       "                   rooms       toilets        garage      elevator  \\\n",
       "totalprice  23103.901095  23829.329737  16364.512574  14244.123620   \n",
       "area            8.392216      6.484930      3.286218      3.291590   \n",
       "age            -0.766034     -2.049338     -1.408532     -2.402951   \n",
       "floor           0.175538      0.110980     -0.029214      0.172240   \n",
       "rooms           0.402317      0.133514      0.058893      0.090052   \n",
       "toilets         0.133514      0.250116      0.102313      0.090263   \n",
       "garage          0.058893      0.102313      0.203293      0.049296   \n",
       "elevator        0.090052      0.090263      0.049296      0.161840   \n",
       "storage         0.008456      0.044476      0.028622      0.034668   \n",
       "\n",
       "                storage  \n",
       "totalprice  7536.746579  \n",
       "area           1.274237  \n",
       "age           -1.581744  \n",
       "floor         -0.103708  \n",
       "rooms          0.008456  \n",
       "toilets        0.044476  \n",
       "garage         0.028622  \n",
       "elevator       0.034668  \n",
       "storage        0.165476  "
      ]
     },
     "execution_count": 44,
     "metadata": {},
     "output_type": "execute_result"
    }
   ],
   "source": [
    "cov=h.cov()\n",
    "cov"
   ]
  },
  {
   "cell_type": "code",
   "execution_count": 45,
   "metadata": {},
   "outputs": [],
   "source": [
    "#calculate correlation matrix"
   ]
  },
  {
   "cell_type": "code",
   "execution_count": 46,
   "metadata": {},
   "outputs": [
    {
     "data": {
      "text/html": [
       "<div>\n",
       "<style scoped>\n",
       "    .dataframe tbody tr th:only-of-type {\n",
       "        vertical-align: middle;\n",
       "    }\n",
       "\n",
       "    .dataframe tbody tr th {\n",
       "        vertical-align: top;\n",
       "    }\n",
       "\n",
       "    .dataframe thead th {\n",
       "        text-align: right;\n",
       "    }\n",
       "</style>\n",
       "<table border=\"1\" class=\"dataframe\">\n",
       "  <thead>\n",
       "    <tr style=\"text-align: right;\">\n",
       "      <th></th>\n",
       "      <th>totalprice</th>\n",
       "      <th>area</th>\n",
       "      <th>age</th>\n",
       "      <th>floor</th>\n",
       "      <th>rooms</th>\n",
       "      <th>toilets</th>\n",
       "      <th>garage</th>\n",
       "      <th>elevator</th>\n",
       "      <th>storage</th>\n",
       "    </tr>\n",
       "  </thead>\n",
       "  <tbody>\n",
       "    <tr>\n",
       "      <td>totalprice</td>\n",
       "      <td>1.000000</td>\n",
       "      <td>0.809213</td>\n",
       "      <td>-0.272450</td>\n",
       "      <td>0.029220</td>\n",
       "      <td>0.525627</td>\n",
       "      <td>0.687571</td>\n",
       "      <td>0.523742</td>\n",
       "      <td>0.510939</td>\n",
       "      <td>0.267358</td>\n",
       "    </tr>\n",
       "    <tr>\n",
       "      <td>area</td>\n",
       "      <td>0.809213</td>\n",
       "      <td>1.000000</td>\n",
       "      <td>-0.052262</td>\n",
       "      <td>0.081656</td>\n",
       "      <td>0.638166</td>\n",
       "      <td>0.625425</td>\n",
       "      <td>0.351541</td>\n",
       "      <td>0.394643</td>\n",
       "      <td>0.151086</td>\n",
       "    </tr>\n",
       "    <tr>\n",
       "      <td>age</td>\n",
       "      <td>-0.272450</td>\n",
       "      <td>-0.052262</td>\n",
       "      <td>1.000000</td>\n",
       "      <td>-0.081243</td>\n",
       "      <td>-0.082745</td>\n",
       "      <td>-0.280751</td>\n",
       "      <td>-0.214034</td>\n",
       "      <td>-0.409242</td>\n",
       "      <td>-0.266408</td>\n",
       "    </tr>\n",
       "    <tr>\n",
       "      <td>floor</td>\n",
       "      <td>0.029220</td>\n",
       "      <td>0.081656</td>\n",
       "      <td>-0.081243</td>\n",
       "      <td>1.000000</td>\n",
       "      <td>0.130113</td>\n",
       "      <td>0.104329</td>\n",
       "      <td>-0.030462</td>\n",
       "      <td>0.201292</td>\n",
       "      <td>-0.119861</td>\n",
       "    </tr>\n",
       "    <tr>\n",
       "      <td>rooms</td>\n",
       "      <td>0.525627</td>\n",
       "      <td>0.638166</td>\n",
       "      <td>-0.082745</td>\n",
       "      <td>0.130113</td>\n",
       "      <td>1.000000</td>\n",
       "      <td>0.420892</td>\n",
       "      <td>0.205930</td>\n",
       "      <td>0.352912</td>\n",
       "      <td>0.032771</td>\n",
       "    </tr>\n",
       "    <tr>\n",
       "      <td>toilets</td>\n",
       "      <td>0.687571</td>\n",
       "      <td>0.625425</td>\n",
       "      <td>-0.280751</td>\n",
       "      <td>0.104329</td>\n",
       "      <td>0.420892</td>\n",
       "      <td>1.000000</td>\n",
       "      <td>0.453729</td>\n",
       "      <td>0.448640</td>\n",
       "      <td>0.218621</td>\n",
       "    </tr>\n",
       "    <tr>\n",
       "      <td>garage</td>\n",
       "      <td>0.523742</td>\n",
       "      <td>0.351541</td>\n",
       "      <td>-0.214034</td>\n",
       "      <td>-0.030462</td>\n",
       "      <td>0.205930</td>\n",
       "      <td>0.453729</td>\n",
       "      <td>1.000000</td>\n",
       "      <td>0.271774</td>\n",
       "      <td>0.156053</td>\n",
       "    </tr>\n",
       "    <tr>\n",
       "      <td>elevator</td>\n",
       "      <td>0.510939</td>\n",
       "      <td>0.394643</td>\n",
       "      <td>-0.409242</td>\n",
       "      <td>0.201292</td>\n",
       "      <td>0.352912</td>\n",
       "      <td>0.448640</td>\n",
       "      <td>0.271774</td>\n",
       "      <td>1.000000</td>\n",
       "      <td>0.211845</td>\n",
       "    </tr>\n",
       "    <tr>\n",
       "      <td>storage</td>\n",
       "      <td>0.267358</td>\n",
       "      <td>0.151086</td>\n",
       "      <td>-0.266408</td>\n",
       "      <td>-0.119861</td>\n",
       "      <td>0.032771</td>\n",
       "      <td>0.218621</td>\n",
       "      <td>0.156053</td>\n",
       "      <td>0.211845</td>\n",
       "      <td>1.000000</td>\n",
       "    </tr>\n",
       "  </tbody>\n",
       "</table>\n",
       "</div>"
      ],
      "text/plain": [
       "            totalprice      area       age     floor     rooms   toilets  \\\n",
       "totalprice    1.000000  0.809213 -0.272450  0.029220  0.525627  0.687571   \n",
       "area          0.809213  1.000000 -0.052262  0.081656  0.638166  0.625425   \n",
       "age          -0.272450 -0.052262  1.000000 -0.081243 -0.082745 -0.280751   \n",
       "floor         0.029220  0.081656 -0.081243  1.000000  0.130113  0.104329   \n",
       "rooms         0.525627  0.638166 -0.082745  0.130113  1.000000  0.420892   \n",
       "toilets       0.687571  0.625425 -0.280751  0.104329  0.420892  1.000000   \n",
       "garage        0.523742  0.351541 -0.214034 -0.030462  0.205930  0.453729   \n",
       "elevator      0.510939  0.394643 -0.409242  0.201292  0.352912  0.448640   \n",
       "storage       0.267358  0.151086 -0.266408 -0.119861  0.032771  0.218621   \n",
       "\n",
       "              garage  elevator   storage  \n",
       "totalprice  0.523742  0.510939  0.267358  \n",
       "area        0.351541  0.394643  0.151086  \n",
       "age        -0.214034 -0.409242 -0.266408  \n",
       "floor      -0.030462  0.201292 -0.119861  \n",
       "rooms       0.205930  0.352912  0.032771  \n",
       "toilets     0.453729  0.448640  0.218621  \n",
       "garage      1.000000  0.271774  0.156053  \n",
       "elevator    0.271774  1.000000  0.211845  \n",
       "storage     0.156053  0.211845  1.000000  "
      ]
     },
     "execution_count": 46,
     "metadata": {},
     "output_type": "execute_result"
    }
   ],
   "source": [
    "corrs=h.corr()\n",
    "corrs"
   ]
  },
  {
   "cell_type": "markdown",
   "metadata": {},
   "source": [
    "# d."
   ]
  },
  {
   "cell_type": "code",
   "execution_count": 48,
   "metadata": {},
   "outputs": [],
   "source": [
    "# scatter plot of totalprice and area (also the regression line)"
   ]
  },
  {
   "cell_type": "code",
   "execution_count": 56,
   "metadata": {},
   "outputs": [
    {
     "data": {
      "text/plain": [
       "<matplotlib.axes._subplots.AxesSubplot at 0x11852a128>"
      ]
     },
     "execution_count": 56,
     "metadata": {},
     "output_type": "execute_result"
    },
    {
     "data": {
      "image/png": "[encoded data removed]",
      "text/plain": [
       "<Figure size 432x288 with 1 Axes>"
      ]
     },
     "metadata": {
      "needs_background": "light"
     },
     "output_type": "display_data"
    }
   ],
   "source": [
    "plt.scatter(ap['totalprice'],ap['area'],s=0.1)\n",
    "plt.xlabel('totalprice')\n",
    "plt.ylabel('area')\n",
    "plt.grid()\n",
    "sns.regplot('totalprice','area',ap,ci=None)"
   ]
  },
  {
   "cell_type": "code",
   "execution_count": 57,
   "metadata": {},
   "outputs": [],
   "source": [
    "# from the scatter plot, the outlier is the only dot which the area is larger than 180\n",
    "# find row number, totalprice and area of the largest outlier "
   ]
  },
  {
   "cell_type": "code",
   "execution_count": 63,
   "metadata": {},
   "outputs": [
    {
     "data": {
      "text/html": [
       "<div>\n",
       "<style scoped>\n",
       "    .dataframe tbody tr th:only-of-type {\n",
       "        vertical-align: middle;\n",
       "    }\n",
       "\n",
       "    .dataframe tbody tr th {\n",
       "        vertical-align: top;\n",
       "    }\n",
       "\n",
       "    .dataframe thead th {\n",
       "        text-align: right;\n",
       "    }\n",
       "</style>\n",
       "<table border=\"1\" class=\"dataframe\">\n",
       "  <thead>\n",
       "    <tr style=\"text-align: right;\">\n",
       "      <th></th>\n",
       "      <th>totalprice</th>\n",
       "      <th>area</th>\n",
       "    </tr>\n",
       "  </thead>\n",
       "  <tbody>\n",
       "    <tr>\n",
       "      <td>30</td>\n",
       "      <td>407000.0</td>\n",
       "      <td>187.910004</td>\n",
       "    </tr>\n",
       "  </tbody>\n",
       "</table>\n",
       "</div>"
      ],
      "text/plain": [
       "    totalprice        area\n",
       "30    407000.0  187.910004"
      ]
     },
     "execution_count": 63,
     "metadata": {},
     "output_type": "execute_result"
    }
   ],
   "source": [
    "b=ap[ap.area>180][['totalprice','area']]\n",
    "b"
   ]
  },
  {
   "cell_type": "code",
   "execution_count": 64,
   "metadata": {},
   "outputs": [],
   "source": [
    "# row number"
   ]
  },
  {
   "cell_type": "code",
   "execution_count": 65,
   "metadata": {},
   "outputs": [
    {
     "data": {
      "text/plain": [
       "30"
      ]
     },
     "execution_count": 65,
     "metadata": {},
     "output_type": "execute_result"
    }
   ],
   "source": [
    "number=b.index[0]\n",
    "number"
   ]
  },
  {
   "cell_type": "code",
   "execution_count": 66,
   "metadata": {},
   "outputs": [],
   "source": [
    "# totalprice"
   ]
  },
  {
   "cell_type": "code",
   "execution_count": 68,
   "metadata": {},
   "outputs": [
    {
     "data": {
      "text/plain": [
       "407000.0"
      ]
     },
     "execution_count": 68,
     "metadata": {},
     "output_type": "execute_result"
    }
   ],
   "source": [
    "totalprice=b.at[number,'totalprice']\n",
    "totalprice"
   ]
  },
  {
   "cell_type": "code",
   "execution_count": 69,
   "metadata": {},
   "outputs": [],
   "source": [
    "# area"
   ]
  },
  {
   "cell_type": "code",
   "execution_count": 70,
   "metadata": {},
   "outputs": [
    {
     "data": {
      "text/plain": [
       "187.91000369999998"
      ]
     },
     "execution_count": 70,
     "metadata": {},
     "output_type": "execute_result"
    }
   ],
   "source": [
    "area=b.at[number,'area']\n",
    "area"
   ]
  },
  {
   "cell_type": "markdown",
   "metadata": {},
   "source": [
    "# e."
   ]
  },
  {
   "cell_type": "code",
   "execution_count": 71,
   "metadata": {},
   "outputs": [],
   "source": [
    "# combine category 2A and 2B to 2 (same for 3A and 3B, 4A and 4B, 5A and 5B)"
   ]
  },
  {
   "cell_type": "code",
   "execution_count": 72,
   "metadata": {},
   "outputs": [],
   "source": [
    "for i in range(218):\n",
    "    ap.at[i,'category']=ap.at[i,'category'][0]"
   ]
  },
  {
   "cell_type": "code",
   "execution_count": 74,
   "metadata": {},
   "outputs": [],
   "source": [
    "# median totalprice of the apartment by category "
   ]
  },
  {
   "cell_type": "code",
   "execution_count": 75,
   "metadata": {},
   "outputs": [
    {
     "data": {
      "text/html": [
       "<div>\n",
       "<style scoped>\n",
       "    .dataframe tbody tr th:only-of-type {\n",
       "        vertical-align: middle;\n",
       "    }\n",
       "\n",
       "    .dataframe tbody tr th {\n",
       "        vertical-align: top;\n",
       "    }\n",
       "\n",
       "    .dataframe thead th {\n",
       "        text-align: right;\n",
       "    }\n",
       "</style>\n",
       "<table border=\"1\" class=\"dataframe\">\n",
       "  <thead>\n",
       "    <tr style=\"text-align: right;\">\n",
       "      <th></th>\n",
       "      <th>totalprice</th>\n",
       "    </tr>\n",
       "    <tr>\n",
       "      <th>category</th>\n",
       "      <th></th>\n",
       "    </tr>\n",
       "  </thead>\n",
       "  <tbody>\n",
       "    <tr>\n",
       "      <td>2</td>\n",
       "      <td>345500.0</td>\n",
       "    </tr>\n",
       "    <tr>\n",
       "      <td>3</td>\n",
       "      <td>279000.0</td>\n",
       "    </tr>\n",
       "    <tr>\n",
       "      <td>4</td>\n",
       "      <td>224000.0</td>\n",
       "    </tr>\n",
       "    <tr>\n",
       "      <td>5</td>\n",
       "      <td>183000.0</td>\n",
       "    </tr>\n",
       "  </tbody>\n",
       "</table>\n",
       "</div>"
      ],
      "text/plain": [
       "          totalprice\n",
       "category            \n",
       "2           345500.0\n",
       "3           279000.0\n",
       "4           224000.0\n",
       "5           183000.0"
      ]
     },
     "execution_count": 75,
     "metadata": {},
     "output_type": "execute_result"
    }
   ],
   "source": [
    "pitable=ap.pivot_table('totalprice',index='category',aggfunc=np.median)\n",
    "pitable"
   ]
  }
 ],
 "metadata": {
  "kernelspec": {
   "display_name": "Python 3",
   "language": "python",
   "name": "python3"
  },
  "language_info": {
   "codemirror_mode": {
    "name": "ipython",
    "version": 3
   },
   "file_extension": ".py",
   "mimetype": "text/x-python",
   "name": "python",
   "nbconvert_exporter": "python",
   "pygments_lexer": "ipython3",
   "version": "3.7.3"
  }
 },
 "nbformat": 4,
 "nbformat_minor": 2
}
